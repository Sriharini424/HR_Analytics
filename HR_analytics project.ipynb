{
 "cells": [
  {
   "cell_type": "code",
   "execution_count": 2,
   "id": "0615af82-0875-43bd-afb2-fd3f8a4f6282",
   "metadata": {
    "collapsed": true,
    "jupyter": {
     "outputs_hidden": true
    }
   },
   "outputs": [
    {
     "name": "stdout",
     "output_type": "stream",
     "text": [
      "Requirement already satisfied: openpyxl in c:\\users\\sriha\\anaconda3\\lib\\site-packages (3.1.2)\n",
      "Requirement already satisfied: et-xmlfile in c:\\users\\sriha\\anaconda3\\lib\\site-packages (from openpyxl) (1.1.0)\n"
     ]
    }
   ],
   "source": [
    "!pip install openpyxl\n",
    "\n",
    "import pandas as pd\n",
    "import numpy as np\n",
    "import seaborn as sns\n",
    "import matplotlib.pyplot as plt"
   ]
  },
  {
   "cell_type": "code",
   "execution_count": 3,
   "id": "8a29372f-b6b0-4b76-8e1c-6ab86a4da813",
   "metadata": {},
   "outputs": [],
   "source": [
    "file_path=\"HR Data.xlsx\"\n",
    "df=pd.read_excel(file_path,engine=\"openpyxl\")"
   ]
  },
  {
   "cell_type": "code",
   "execution_count": 4,
   "id": "db2b075d-9f49-4640-8b32-16de0bee921c",
   "metadata": {},
   "outputs": [
    {
     "data": {
      "text/html": [
       "<div>\n",
       "<style scoped>\n",
       "    .dataframe tbody tr th:only-of-type {\n",
       "        vertical-align: middle;\n",
       "    }\n",
       "\n",
       "    .dataframe tbody tr th {\n",
       "        vertical-align: top;\n",
       "    }\n",
       "\n",
       "    .dataframe thead th {\n",
       "        text-align: right;\n",
       "    }\n",
       "</style>\n",
       "<table border=\"1\" class=\"dataframe\">\n",
       "  <thead>\n",
       "    <tr style=\"text-align: right;\">\n",
       "      <th></th>\n",
       "      <th>Attrition</th>\n",
       "      <th>Business Travel</th>\n",
       "      <th>CF_age band</th>\n",
       "      <th>CF_attrition label</th>\n",
       "      <th>Department</th>\n",
       "      <th>Education Field</th>\n",
       "      <th>emp no</th>\n",
       "      <th>Employee Number</th>\n",
       "      <th>Gender</th>\n",
       "      <th>Job Role</th>\n",
       "      <th>...</th>\n",
       "      <th>Performance Rating</th>\n",
       "      <th>Relationship Satisfaction</th>\n",
       "      <th>Standard Hours</th>\n",
       "      <th>Stock Option Level</th>\n",
       "      <th>Total Working Years</th>\n",
       "      <th>Work Life Balance</th>\n",
       "      <th>Years At Company</th>\n",
       "      <th>Years In Current Role</th>\n",
       "      <th>Years Since Last Promotion</th>\n",
       "      <th>Years With Curr Manager</th>\n",
       "    </tr>\n",
       "  </thead>\n",
       "  <tbody>\n",
       "    <tr>\n",
       "      <th>0</th>\n",
       "      <td>Yes</td>\n",
       "      <td>Travel_Rarely</td>\n",
       "      <td>35 - 44</td>\n",
       "      <td>Ex-Employees</td>\n",
       "      <td>Sales</td>\n",
       "      <td>Life Sciences</td>\n",
       "      <td>STAFF-1</td>\n",
       "      <td>1</td>\n",
       "      <td>Female</td>\n",
       "      <td>Sales Executive</td>\n",
       "      <td>...</td>\n",
       "      <td>3</td>\n",
       "      <td>1</td>\n",
       "      <td>80</td>\n",
       "      <td>0</td>\n",
       "      <td>8</td>\n",
       "      <td>1</td>\n",
       "      <td>6</td>\n",
       "      <td>4</td>\n",
       "      <td>0</td>\n",
       "      <td>5</td>\n",
       "    </tr>\n",
       "    <tr>\n",
       "      <th>1</th>\n",
       "      <td>No</td>\n",
       "      <td>Travel_Frequently</td>\n",
       "      <td>45 - 54</td>\n",
       "      <td>Current Employees</td>\n",
       "      <td>R&amp;D</td>\n",
       "      <td>Life Sciences</td>\n",
       "      <td>STAFF-2</td>\n",
       "      <td>2</td>\n",
       "      <td>Male</td>\n",
       "      <td>Research Scientist</td>\n",
       "      <td>...</td>\n",
       "      <td>4</td>\n",
       "      <td>4</td>\n",
       "      <td>80</td>\n",
       "      <td>1</td>\n",
       "      <td>10</td>\n",
       "      <td>3</td>\n",
       "      <td>10</td>\n",
       "      <td>7</td>\n",
       "      <td>1</td>\n",
       "      <td>7</td>\n",
       "    </tr>\n",
       "    <tr>\n",
       "      <th>2</th>\n",
       "      <td>Yes</td>\n",
       "      <td>Travel_Rarely</td>\n",
       "      <td>35 - 44</td>\n",
       "      <td>Ex-Employees</td>\n",
       "      <td>R&amp;D</td>\n",
       "      <td>Other</td>\n",
       "      <td>STAFF-4</td>\n",
       "      <td>4</td>\n",
       "      <td>Male</td>\n",
       "      <td>Laboratory Technician</td>\n",
       "      <td>...</td>\n",
       "      <td>3</td>\n",
       "      <td>2</td>\n",
       "      <td>80</td>\n",
       "      <td>0</td>\n",
       "      <td>7</td>\n",
       "      <td>3</td>\n",
       "      <td>0</td>\n",
       "      <td>0</td>\n",
       "      <td>0</td>\n",
       "      <td>0</td>\n",
       "    </tr>\n",
       "    <tr>\n",
       "      <th>3</th>\n",
       "      <td>No</td>\n",
       "      <td>Travel_Frequently</td>\n",
       "      <td>25 - 34</td>\n",
       "      <td>Current Employees</td>\n",
       "      <td>R&amp;D</td>\n",
       "      <td>Life Sciences</td>\n",
       "      <td>STAFF-5</td>\n",
       "      <td>5</td>\n",
       "      <td>Female</td>\n",
       "      <td>Research Scientist</td>\n",
       "      <td>...</td>\n",
       "      <td>3</td>\n",
       "      <td>3</td>\n",
       "      <td>80</td>\n",
       "      <td>0</td>\n",
       "      <td>8</td>\n",
       "      <td>3</td>\n",
       "      <td>8</td>\n",
       "      <td>7</td>\n",
       "      <td>3</td>\n",
       "      <td>0</td>\n",
       "    </tr>\n",
       "    <tr>\n",
       "      <th>4</th>\n",
       "      <td>No</td>\n",
       "      <td>Travel_Rarely</td>\n",
       "      <td>25 - 34</td>\n",
       "      <td>Current Employees</td>\n",
       "      <td>R&amp;D</td>\n",
       "      <td>Medical</td>\n",
       "      <td>STAFF-7</td>\n",
       "      <td>7</td>\n",
       "      <td>Male</td>\n",
       "      <td>Laboratory Technician</td>\n",
       "      <td>...</td>\n",
       "      <td>3</td>\n",
       "      <td>4</td>\n",
       "      <td>80</td>\n",
       "      <td>1</td>\n",
       "      <td>6</td>\n",
       "      <td>3</td>\n",
       "      <td>2</td>\n",
       "      <td>2</td>\n",
       "      <td>2</td>\n",
       "      <td>2</td>\n",
       "    </tr>\n",
       "  </tbody>\n",
       "</table>\n",
       "<p>5 rows × 41 columns</p>\n",
       "</div>"
      ],
      "text/plain": [
       "  Attrition    Business Travel CF_age band CF_attrition label Department  \\\n",
       "0       Yes      Travel_Rarely     35 - 44       Ex-Employees      Sales   \n",
       "1        No  Travel_Frequently     45 - 54  Current Employees        R&D   \n",
       "2       Yes      Travel_Rarely     35 - 44       Ex-Employees        R&D   \n",
       "3        No  Travel_Frequently     25 - 34  Current Employees        R&D   \n",
       "4        No      Travel_Rarely     25 - 34  Current Employees        R&D   \n",
       "\n",
       "  Education Field   emp no  Employee Number  Gender               Job Role  \\\n",
       "0   Life Sciences  STAFF-1                1  Female        Sales Executive   \n",
       "1   Life Sciences  STAFF-2                2    Male     Research Scientist   \n",
       "2           Other  STAFF-4                4    Male  Laboratory Technician   \n",
       "3   Life Sciences  STAFF-5                5  Female     Research Scientist   \n",
       "4         Medical  STAFF-7                7    Male  Laboratory Technician   \n",
       "\n",
       "   ... Performance Rating Relationship Satisfaction Standard Hours  \\\n",
       "0  ...                  3                         1             80   \n",
       "1  ...                  4                         4             80   \n",
       "2  ...                  3                         2             80   \n",
       "3  ...                  3                         3             80   \n",
       "4  ...                  3                         4             80   \n",
       "\n",
       "   Stock Option Level  Total Working Years  Work Life Balance  \\\n",
       "0                   0                    8                  1   \n",
       "1                   1                   10                  3   \n",
       "2                   0                    7                  3   \n",
       "3                   0                    8                  3   \n",
       "4                   1                    6                  3   \n",
       "\n",
       "   Years At Company  Years In Current Role  Years Since Last Promotion  \\\n",
       "0                 6                      4                           0   \n",
       "1                10                      7                           1   \n",
       "2                 0                      0                           0   \n",
       "3                 8                      7                           3   \n",
       "4                 2                      2                           2   \n",
       "\n",
       "   Years With Curr Manager  \n",
       "0                        5  \n",
       "1                        7  \n",
       "2                        0  \n",
       "3                        0  \n",
       "4                        2  \n",
       "\n",
       "[5 rows x 41 columns]"
      ]
     },
     "execution_count": 4,
     "metadata": {},
     "output_type": "execute_result"
    }
   ],
   "source": [
    "df.head()"
   ]
  },
  {
   "cell_type": "code",
   "execution_count": 5,
   "id": "29b0075c-d142-4ee4-b8ab-ad5e7901c84c",
   "metadata": {},
   "outputs": [
    {
     "data": {
      "text/html": [
       "<div>\n",
       "<style scoped>\n",
       "    .dataframe tbody tr th:only-of-type {\n",
       "        vertical-align: middle;\n",
       "    }\n",
       "\n",
       "    .dataframe tbody tr th {\n",
       "        vertical-align: top;\n",
       "    }\n",
       "\n",
       "    .dataframe thead th {\n",
       "        text-align: right;\n",
       "    }\n",
       "</style>\n",
       "<table border=\"1\" class=\"dataframe\">\n",
       "  <thead>\n",
       "    <tr style=\"text-align: right;\">\n",
       "      <th></th>\n",
       "      <th>Attrition</th>\n",
       "      <th>Business Travel</th>\n",
       "      <th>CF_age band</th>\n",
       "      <th>CF_attrition label</th>\n",
       "      <th>Department</th>\n",
       "      <th>Education Field</th>\n",
       "      <th>emp no</th>\n",
       "      <th>Employee Number</th>\n",
       "      <th>Gender</th>\n",
       "      <th>Job Role</th>\n",
       "      <th>...</th>\n",
       "      <th>Performance Rating</th>\n",
       "      <th>Relationship Satisfaction</th>\n",
       "      <th>Standard Hours</th>\n",
       "      <th>Stock Option Level</th>\n",
       "      <th>Total Working Years</th>\n",
       "      <th>Work Life Balance</th>\n",
       "      <th>Years At Company</th>\n",
       "      <th>Years In Current Role</th>\n",
       "      <th>Years Since Last Promotion</th>\n",
       "      <th>Years With Curr Manager</th>\n",
       "    </tr>\n",
       "  </thead>\n",
       "  <tbody>\n",
       "    <tr>\n",
       "      <th>1465</th>\n",
       "      <td>Yes</td>\n",
       "      <td>Non-Travel</td>\n",
       "      <td>25 - 34</td>\n",
       "      <td>Ex-Employees</td>\n",
       "      <td>R&amp;D</td>\n",
       "      <td>Technical Degree</td>\n",
       "      <td>STAFF-1905</td>\n",
       "      <td>1905</td>\n",
       "      <td>Male</td>\n",
       "      <td>Research Scientist</td>\n",
       "      <td>...</td>\n",
       "      <td>4</td>\n",
       "      <td>2</td>\n",
       "      <td>80</td>\n",
       "      <td>1</td>\n",
       "      <td>5</td>\n",
       "      <td>3</td>\n",
       "      <td>5</td>\n",
       "      <td>2</td>\n",
       "      <td>3</td>\n",
       "      <td>0</td>\n",
       "    </tr>\n",
       "    <tr>\n",
       "      <th>1466</th>\n",
       "      <td>Yes</td>\n",
       "      <td>Travel_Frequently</td>\n",
       "      <td>25 - 34</td>\n",
       "      <td>Ex-Employees</td>\n",
       "      <td>R&amp;D</td>\n",
       "      <td>Life Sciences</td>\n",
       "      <td>STAFF-1868</td>\n",
       "      <td>1868</td>\n",
       "      <td>Male</td>\n",
       "      <td>Research Scientist</td>\n",
       "      <td>...</td>\n",
       "      <td>4</td>\n",
       "      <td>2</td>\n",
       "      <td>80</td>\n",
       "      <td>0</td>\n",
       "      <td>1</td>\n",
       "      <td>2</td>\n",
       "      <td>1</td>\n",
       "      <td>0</td>\n",
       "      <td>1</td>\n",
       "      <td>0</td>\n",
       "    </tr>\n",
       "    <tr>\n",
       "      <th>1467</th>\n",
       "      <td>Yes</td>\n",
       "      <td>Travel_Frequently</td>\n",
       "      <td>35 - 44</td>\n",
       "      <td>Ex-Employees</td>\n",
       "      <td>Sales</td>\n",
       "      <td>Other</td>\n",
       "      <td>STAFF-1667</td>\n",
       "      <td>1667</td>\n",
       "      <td>Male</td>\n",
       "      <td>Sales Executive</td>\n",
       "      <td>...</td>\n",
       "      <td>4</td>\n",
       "      <td>1</td>\n",
       "      <td>80</td>\n",
       "      <td>0</td>\n",
       "      <td>13</td>\n",
       "      <td>4</td>\n",
       "      <td>11</td>\n",
       "      <td>9</td>\n",
       "      <td>6</td>\n",
       "      <td>7</td>\n",
       "    </tr>\n",
       "    <tr>\n",
       "      <th>1468</th>\n",
       "      <td>Yes</td>\n",
       "      <td>Travel_Rarely</td>\n",
       "      <td>Under 25</td>\n",
       "      <td>Ex-Employees</td>\n",
       "      <td>R&amp;D</td>\n",
       "      <td>Life Sciences</td>\n",
       "      <td>STAFF-1878</td>\n",
       "      <td>1878</td>\n",
       "      <td>Male</td>\n",
       "      <td>Research Scientist</td>\n",
       "      <td>...</td>\n",
       "      <td>4</td>\n",
       "      <td>1</td>\n",
       "      <td>80</td>\n",
       "      <td>0</td>\n",
       "      <td>1</td>\n",
       "      <td>3</td>\n",
       "      <td>1</td>\n",
       "      <td>0</td>\n",
       "      <td>0</td>\n",
       "      <td>0</td>\n",
       "    </tr>\n",
       "    <tr>\n",
       "      <th>1469</th>\n",
       "      <td>Yes</td>\n",
       "      <td>Travel_Rarely</td>\n",
       "      <td>Under 25</td>\n",
       "      <td>Ex-Employees</td>\n",
       "      <td>Sales</td>\n",
       "      <td>Life Sciences</td>\n",
       "      <td>STAFF-1702</td>\n",
       "      <td>1702</td>\n",
       "      <td>Male</td>\n",
       "      <td>Sales Representative</td>\n",
       "      <td>...</td>\n",
       "      <td>4</td>\n",
       "      <td>2</td>\n",
       "      <td>80</td>\n",
       "      <td>1</td>\n",
       "      <td>3</td>\n",
       "      <td>3</td>\n",
       "      <td>3</td>\n",
       "      <td>2</td>\n",
       "      <td>0</td>\n",
       "      <td>2</td>\n",
       "    </tr>\n",
       "  </tbody>\n",
       "</table>\n",
       "<p>5 rows × 41 columns</p>\n",
       "</div>"
      ],
      "text/plain": [
       "     Attrition    Business Travel CF_age band CF_attrition label Department  \\\n",
       "1465       Yes         Non-Travel     25 - 34       Ex-Employees        R&D   \n",
       "1466       Yes  Travel_Frequently     25 - 34       Ex-Employees        R&D   \n",
       "1467       Yes  Travel_Frequently     35 - 44       Ex-Employees      Sales   \n",
       "1468       Yes      Travel_Rarely    Under 25       Ex-Employees        R&D   \n",
       "1469       Yes      Travel_Rarely    Under 25       Ex-Employees      Sales   \n",
       "\n",
       "       Education Field      emp no  Employee Number Gender  \\\n",
       "1465  Technical Degree  STAFF-1905             1905   Male   \n",
       "1466     Life Sciences  STAFF-1868             1868   Male   \n",
       "1467             Other  STAFF-1667             1667   Male   \n",
       "1468     Life Sciences  STAFF-1878             1878   Male   \n",
       "1469     Life Sciences  STAFF-1702             1702   Male   \n",
       "\n",
       "                  Job Role  ... Performance Rating Relationship Satisfaction  \\\n",
       "1465    Research Scientist  ...                  4                         2   \n",
       "1466    Research Scientist  ...                  4                         2   \n",
       "1467       Sales Executive  ...                  4                         1   \n",
       "1468    Research Scientist  ...                  4                         1   \n",
       "1469  Sales Representative  ...                  4                         2   \n",
       "\n",
       "     Standard Hours  Stock Option Level  Total Working Years  \\\n",
       "1465             80                   1                    5   \n",
       "1466             80                   0                    1   \n",
       "1467             80                   0                   13   \n",
       "1468             80                   0                    1   \n",
       "1469             80                   1                    3   \n",
       "\n",
       "      Work Life Balance  Years At Company  Years In Current Role  \\\n",
       "1465                  3                 5                      2   \n",
       "1466                  2                 1                      0   \n",
       "1467                  4                11                      9   \n",
       "1468                  3                 1                      0   \n",
       "1469                  3                 3                      2   \n",
       "\n",
       "      Years Since Last Promotion  Years With Curr Manager  \n",
       "1465                           3                        0  \n",
       "1466                           1                        0  \n",
       "1467                           6                        7  \n",
       "1468                           0                        0  \n",
       "1469                           0                        2  \n",
       "\n",
       "[5 rows x 41 columns]"
      ]
     },
     "execution_count": 5,
     "metadata": {},
     "output_type": "execute_result"
    }
   ],
   "source": [
    "df.tail()"
   ]
  },
  {
   "cell_type": "code",
   "execution_count": 6,
   "id": "14adfd31-a139-4f8f-8e6a-fc0c59ab0699",
   "metadata": {},
   "outputs": [
    {
     "name": "stdout",
     "output_type": "stream",
     "text": [
      "<class 'pandas.core.frame.DataFrame'>\n",
      "RangeIndex: 1470 entries, 0 to 1469\n",
      "Data columns (total 41 columns):\n",
      " #   Column                      Non-Null Count  Dtype \n",
      "---  ------                      --------------  ----- \n",
      " 0   Attrition                   1470 non-null   object\n",
      " 1   Business Travel             1470 non-null   object\n",
      " 2   CF_age band                 1470 non-null   object\n",
      " 3   CF_attrition label          1470 non-null   object\n",
      " 4   Department                  1470 non-null   object\n",
      " 5   Education Field             1470 non-null   object\n",
      " 6   emp no                      1470 non-null   object\n",
      " 7   Employee Number             1470 non-null   int64 \n",
      " 8   Gender                      1470 non-null   object\n",
      " 9   Job Role                    1470 non-null   object\n",
      " 10  Marital Status              1470 non-null   object\n",
      " 11  Over Time                   1470 non-null   object\n",
      " 12  Over18                      1470 non-null   object\n",
      " 13  Training Times Last Year    1470 non-null   int64 \n",
      " 14  -2                          1470 non-null   int64 \n",
      " 15  0                           1470 non-null   int64 \n",
      " 16  Age                         1470 non-null   int64 \n",
      " 17  CF_current Employee         1470 non-null   int64 \n",
      " 18  Daily Rate                  1470 non-null   int64 \n",
      " 19  Distance From Home          1470 non-null   int64 \n",
      " 20  Education                   1470 non-null   object\n",
      " 21  Employee Count              1470 non-null   int64 \n",
      " 22  Environment Satisfaction    1470 non-null   int64 \n",
      " 23  Hourly Rate                 1470 non-null   int64 \n",
      " 24  Job Involvement             1470 non-null   int64 \n",
      " 25  Job Level                   1470 non-null   int64 \n",
      " 26  Job Satisfaction            1470 non-null   int64 \n",
      " 27  Monthly Income              1470 non-null   int64 \n",
      " 28  Monthly Rate                1470 non-null   int64 \n",
      " 29  Num Companies Worked        1470 non-null   int64 \n",
      " 30  Percent Salary Hike         1470 non-null   int64 \n",
      " 31  Performance Rating          1470 non-null   int64 \n",
      " 32  Relationship Satisfaction   1470 non-null   int64 \n",
      " 33  Standard Hours              1470 non-null   int64 \n",
      " 34  Stock Option Level          1470 non-null   int64 \n",
      " 35  Total Working Years         1470 non-null   int64 \n",
      " 36  Work Life Balance           1470 non-null   int64 \n",
      " 37  Years At Company            1470 non-null   int64 \n",
      " 38  Years In Current Role       1470 non-null   int64 \n",
      " 39  Years Since Last Promotion  1470 non-null   int64 \n",
      " 40  Years With Curr Manager     1470 non-null   int64 \n",
      "dtypes: int64(28), object(13)\n",
      "memory usage: 471.0+ KB\n"
     ]
    }
   ],
   "source": [
    "df.info()"
   ]
  },
  {
   "cell_type": "code",
   "execution_count": 7,
   "id": "5b44d0cb-1ee4-484e-9d45-cd5af18e5b30",
   "metadata": {},
   "outputs": [
    {
     "data": {
      "text/html": [
       "<div>\n",
       "<style scoped>\n",
       "    .dataframe tbody tr th:only-of-type {\n",
       "        vertical-align: middle;\n",
       "    }\n",
       "\n",
       "    .dataframe tbody tr th {\n",
       "        vertical-align: top;\n",
       "    }\n",
       "\n",
       "    .dataframe thead th {\n",
       "        text-align: right;\n",
       "    }\n",
       "</style>\n",
       "<table border=\"1\" class=\"dataframe\">\n",
       "  <thead>\n",
       "    <tr style=\"text-align: right;\">\n",
       "      <th></th>\n",
       "      <th>Employee Number</th>\n",
       "      <th>Training Times Last Year</th>\n",
       "      <th>-2</th>\n",
       "      <th>0</th>\n",
       "      <th>Age</th>\n",
       "      <th>CF_current Employee</th>\n",
       "      <th>Daily Rate</th>\n",
       "      <th>Distance From Home</th>\n",
       "      <th>Employee Count</th>\n",
       "      <th>Environment Satisfaction</th>\n",
       "      <th>...</th>\n",
       "      <th>Performance Rating</th>\n",
       "      <th>Relationship Satisfaction</th>\n",
       "      <th>Standard Hours</th>\n",
       "      <th>Stock Option Level</th>\n",
       "      <th>Total Working Years</th>\n",
       "      <th>Work Life Balance</th>\n",
       "      <th>Years At Company</th>\n",
       "      <th>Years In Current Role</th>\n",
       "      <th>Years Since Last Promotion</th>\n",
       "      <th>Years With Curr Manager</th>\n",
       "    </tr>\n",
       "  </thead>\n",
       "  <tbody>\n",
       "    <tr>\n",
       "      <th>count</th>\n",
       "      <td>1470.000000</td>\n",
       "      <td>1470.000000</td>\n",
       "      <td>1470.0</td>\n",
       "      <td>1470.0</td>\n",
       "      <td>1470.000000</td>\n",
       "      <td>1470.000000</td>\n",
       "      <td>1470.000000</td>\n",
       "      <td>1470.000000</td>\n",
       "      <td>1470.0</td>\n",
       "      <td>1470.000000</td>\n",
       "      <td>...</td>\n",
       "      <td>1470.000000</td>\n",
       "      <td>1470.000000</td>\n",
       "      <td>1470.0</td>\n",
       "      <td>1470.000000</td>\n",
       "      <td>1470.000000</td>\n",
       "      <td>1470.000000</td>\n",
       "      <td>1470.000000</td>\n",
       "      <td>1470.000000</td>\n",
       "      <td>1470.000000</td>\n",
       "      <td>1470.000000</td>\n",
       "    </tr>\n",
       "    <tr>\n",
       "      <th>mean</th>\n",
       "      <td>1024.865306</td>\n",
       "      <td>2.799320</td>\n",
       "      <td>-2.0</td>\n",
       "      <td>0.0</td>\n",
       "      <td>36.923810</td>\n",
       "      <td>0.838776</td>\n",
       "      <td>802.485714</td>\n",
       "      <td>9.192517</td>\n",
       "      <td>1.0</td>\n",
       "      <td>2.721769</td>\n",
       "      <td>...</td>\n",
       "      <td>3.153741</td>\n",
       "      <td>2.712245</td>\n",
       "      <td>80.0</td>\n",
       "      <td>0.793878</td>\n",
       "      <td>11.279592</td>\n",
       "      <td>2.761224</td>\n",
       "      <td>7.008163</td>\n",
       "      <td>4.229252</td>\n",
       "      <td>2.187755</td>\n",
       "      <td>4.123129</td>\n",
       "    </tr>\n",
       "    <tr>\n",
       "      <th>std</th>\n",
       "      <td>602.024335</td>\n",
       "      <td>1.289271</td>\n",
       "      <td>0.0</td>\n",
       "      <td>0.0</td>\n",
       "      <td>9.135373</td>\n",
       "      <td>0.367863</td>\n",
       "      <td>403.509100</td>\n",
       "      <td>8.106864</td>\n",
       "      <td>0.0</td>\n",
       "      <td>1.093082</td>\n",
       "      <td>...</td>\n",
       "      <td>0.360824</td>\n",
       "      <td>1.081209</td>\n",
       "      <td>0.0</td>\n",
       "      <td>0.852077</td>\n",
       "      <td>7.780782</td>\n",
       "      <td>0.706476</td>\n",
       "      <td>6.126525</td>\n",
       "      <td>3.623137</td>\n",
       "      <td>3.222430</td>\n",
       "      <td>3.568136</td>\n",
       "    </tr>\n",
       "    <tr>\n",
       "      <th>min</th>\n",
       "      <td>1.000000</td>\n",
       "      <td>0.000000</td>\n",
       "      <td>-2.0</td>\n",
       "      <td>0.0</td>\n",
       "      <td>18.000000</td>\n",
       "      <td>0.000000</td>\n",
       "      <td>102.000000</td>\n",
       "      <td>1.000000</td>\n",
       "      <td>1.0</td>\n",
       "      <td>1.000000</td>\n",
       "      <td>...</td>\n",
       "      <td>3.000000</td>\n",
       "      <td>1.000000</td>\n",
       "      <td>80.0</td>\n",
       "      <td>0.000000</td>\n",
       "      <td>0.000000</td>\n",
       "      <td>1.000000</td>\n",
       "      <td>0.000000</td>\n",
       "      <td>0.000000</td>\n",
       "      <td>0.000000</td>\n",
       "      <td>0.000000</td>\n",
       "    </tr>\n",
       "    <tr>\n",
       "      <th>25%</th>\n",
       "      <td>491.250000</td>\n",
       "      <td>2.000000</td>\n",
       "      <td>-2.0</td>\n",
       "      <td>0.0</td>\n",
       "      <td>30.000000</td>\n",
       "      <td>1.000000</td>\n",
       "      <td>465.000000</td>\n",
       "      <td>2.000000</td>\n",
       "      <td>1.0</td>\n",
       "      <td>2.000000</td>\n",
       "      <td>...</td>\n",
       "      <td>3.000000</td>\n",
       "      <td>2.000000</td>\n",
       "      <td>80.0</td>\n",
       "      <td>0.000000</td>\n",
       "      <td>6.000000</td>\n",
       "      <td>2.000000</td>\n",
       "      <td>3.000000</td>\n",
       "      <td>2.000000</td>\n",
       "      <td>0.000000</td>\n",
       "      <td>2.000000</td>\n",
       "    </tr>\n",
       "    <tr>\n",
       "      <th>50%</th>\n",
       "      <td>1020.500000</td>\n",
       "      <td>3.000000</td>\n",
       "      <td>-2.0</td>\n",
       "      <td>0.0</td>\n",
       "      <td>36.000000</td>\n",
       "      <td>1.000000</td>\n",
       "      <td>802.000000</td>\n",
       "      <td>7.000000</td>\n",
       "      <td>1.0</td>\n",
       "      <td>3.000000</td>\n",
       "      <td>...</td>\n",
       "      <td>3.000000</td>\n",
       "      <td>3.000000</td>\n",
       "      <td>80.0</td>\n",
       "      <td>1.000000</td>\n",
       "      <td>10.000000</td>\n",
       "      <td>3.000000</td>\n",
       "      <td>5.000000</td>\n",
       "      <td>3.000000</td>\n",
       "      <td>1.000000</td>\n",
       "      <td>3.000000</td>\n",
       "    </tr>\n",
       "    <tr>\n",
       "      <th>75%</th>\n",
       "      <td>1555.750000</td>\n",
       "      <td>3.000000</td>\n",
       "      <td>-2.0</td>\n",
       "      <td>0.0</td>\n",
       "      <td>43.000000</td>\n",
       "      <td>1.000000</td>\n",
       "      <td>1157.000000</td>\n",
       "      <td>14.000000</td>\n",
       "      <td>1.0</td>\n",
       "      <td>4.000000</td>\n",
       "      <td>...</td>\n",
       "      <td>3.000000</td>\n",
       "      <td>4.000000</td>\n",
       "      <td>80.0</td>\n",
       "      <td>1.000000</td>\n",
       "      <td>15.000000</td>\n",
       "      <td>3.000000</td>\n",
       "      <td>9.000000</td>\n",
       "      <td>7.000000</td>\n",
       "      <td>3.000000</td>\n",
       "      <td>7.000000</td>\n",
       "    </tr>\n",
       "    <tr>\n",
       "      <th>max</th>\n",
       "      <td>2068.000000</td>\n",
       "      <td>6.000000</td>\n",
       "      <td>-2.0</td>\n",
       "      <td>0.0</td>\n",
       "      <td>60.000000</td>\n",
       "      <td>1.000000</td>\n",
       "      <td>1499.000000</td>\n",
       "      <td>29.000000</td>\n",
       "      <td>1.0</td>\n",
       "      <td>4.000000</td>\n",
       "      <td>...</td>\n",
       "      <td>4.000000</td>\n",
       "      <td>4.000000</td>\n",
       "      <td>80.0</td>\n",
       "      <td>3.000000</td>\n",
       "      <td>40.000000</td>\n",
       "      <td>4.000000</td>\n",
       "      <td>40.000000</td>\n",
       "      <td>18.000000</td>\n",
       "      <td>15.000000</td>\n",
       "      <td>17.000000</td>\n",
       "    </tr>\n",
       "  </tbody>\n",
       "</table>\n",
       "<p>8 rows × 28 columns</p>\n",
       "</div>"
      ],
      "text/plain": [
       "       Employee Number  Training Times Last Year      -2       0          Age  \\\n",
       "count      1470.000000               1470.000000  1470.0  1470.0  1470.000000   \n",
       "mean       1024.865306                  2.799320    -2.0     0.0    36.923810   \n",
       "std         602.024335                  1.289271     0.0     0.0     9.135373   \n",
       "min           1.000000                  0.000000    -2.0     0.0    18.000000   \n",
       "25%         491.250000                  2.000000    -2.0     0.0    30.000000   \n",
       "50%        1020.500000                  3.000000    -2.0     0.0    36.000000   \n",
       "75%        1555.750000                  3.000000    -2.0     0.0    43.000000   \n",
       "max        2068.000000                  6.000000    -2.0     0.0    60.000000   \n",
       "\n",
       "       CF_current Employee   Daily Rate  Distance From Home  Employee Count  \\\n",
       "count          1470.000000  1470.000000         1470.000000          1470.0   \n",
       "mean              0.838776   802.485714            9.192517             1.0   \n",
       "std               0.367863   403.509100            8.106864             0.0   \n",
       "min               0.000000   102.000000            1.000000             1.0   \n",
       "25%               1.000000   465.000000            2.000000             1.0   \n",
       "50%               1.000000   802.000000            7.000000             1.0   \n",
       "75%               1.000000  1157.000000           14.000000             1.0   \n",
       "max               1.000000  1499.000000           29.000000             1.0   \n",
       "\n",
       "       Environment Satisfaction  ...  Performance Rating  \\\n",
       "count               1470.000000  ...         1470.000000   \n",
       "mean                   2.721769  ...            3.153741   \n",
       "std                    1.093082  ...            0.360824   \n",
       "min                    1.000000  ...            3.000000   \n",
       "25%                    2.000000  ...            3.000000   \n",
       "50%                    3.000000  ...            3.000000   \n",
       "75%                    4.000000  ...            3.000000   \n",
       "max                    4.000000  ...            4.000000   \n",
       "\n",
       "       Relationship Satisfaction  Standard Hours  Stock Option Level  \\\n",
       "count                1470.000000          1470.0         1470.000000   \n",
       "mean                    2.712245            80.0            0.793878   \n",
       "std                     1.081209             0.0            0.852077   \n",
       "min                     1.000000            80.0            0.000000   \n",
       "25%                     2.000000            80.0            0.000000   \n",
       "50%                     3.000000            80.0            1.000000   \n",
       "75%                     4.000000            80.0            1.000000   \n",
       "max                     4.000000            80.0            3.000000   \n",
       "\n",
       "       Total Working Years  Work Life Balance  Years At Company  \\\n",
       "count          1470.000000        1470.000000       1470.000000   \n",
       "mean             11.279592           2.761224          7.008163   \n",
       "std               7.780782           0.706476          6.126525   \n",
       "min               0.000000           1.000000          0.000000   \n",
       "25%               6.000000           2.000000          3.000000   \n",
       "50%              10.000000           3.000000          5.000000   \n",
       "75%              15.000000           3.000000          9.000000   \n",
       "max              40.000000           4.000000         40.000000   \n",
       "\n",
       "       Years In Current Role  Years Since Last Promotion  \\\n",
       "count            1470.000000                 1470.000000   \n",
       "mean                4.229252                    2.187755   \n",
       "std                 3.623137                    3.222430   \n",
       "min                 0.000000                    0.000000   \n",
       "25%                 2.000000                    0.000000   \n",
       "50%                 3.000000                    1.000000   \n",
       "75%                 7.000000                    3.000000   \n",
       "max                18.000000                   15.000000   \n",
       "\n",
       "       Years With Curr Manager  \n",
       "count              1470.000000  \n",
       "mean                  4.123129  \n",
       "std                   3.568136  \n",
       "min                   0.000000  \n",
       "25%                   2.000000  \n",
       "50%                   3.000000  \n",
       "75%                   7.000000  \n",
       "max                  17.000000  \n",
       "\n",
       "[8 rows x 28 columns]"
      ]
     },
     "execution_count": 7,
     "metadata": {},
     "output_type": "execute_result"
    }
   ],
   "source": [
    "df.describe()"
   ]
  },
  {
   "cell_type": "code",
   "execution_count": 8,
   "id": "b55c553c-b69c-4c4f-aceb-6cf1f1ead57f",
   "metadata": {},
   "outputs": [
    {
     "data": {
      "text/plain": [
       "Attrition                     0\n",
       "Business Travel               0\n",
       "CF_age band                   0\n",
       "CF_attrition label            0\n",
       "Department                    0\n",
       "Education Field               0\n",
       "emp no                        0\n",
       "Employee Number               0\n",
       "Gender                        0\n",
       "Job Role                      0\n",
       "Marital Status                0\n",
       "Over Time                     0\n",
       "Over18                        0\n",
       "Training Times Last Year      0\n",
       "-2                            0\n",
       "0                             0\n",
       "Age                           0\n",
       "CF_current Employee           0\n",
       "Daily Rate                    0\n",
       "Distance From Home            0\n",
       "Education                     0\n",
       "Employee Count                0\n",
       "Environment Satisfaction      0\n",
       "Hourly Rate                   0\n",
       "Job Involvement               0\n",
       "Job Level                     0\n",
       "Job Satisfaction              0\n",
       "Monthly Income                0\n",
       "Monthly Rate                  0\n",
       "Num Companies Worked          0\n",
       "Percent Salary Hike           0\n",
       "Performance Rating            0\n",
       "Relationship Satisfaction     0\n",
       "Standard Hours                0\n",
       "Stock Option Level            0\n",
       "Total Working Years           0\n",
       "Work Life Balance             0\n",
       "Years At Company              0\n",
       "Years In Current Role         0\n",
       "Years Since Last Promotion    0\n",
       "Years With Curr Manager       0\n",
       "dtype: int64"
      ]
     },
     "execution_count": 8,
     "metadata": {},
     "output_type": "execute_result"
    }
   ],
   "source": [
    "df.isnull().sum()"
   ]
  },
  {
   "cell_type": "code",
   "execution_count": 10,
   "id": "fc0c6a66-5e94-419a-a0ab-56db8a318998",
   "metadata": {},
   "outputs": [
    {
     "data": {
      "text/plain": [
       "(1470, 41)"
      ]
     },
     "execution_count": 10,
     "metadata": {},
     "output_type": "execute_result"
    }
   ],
   "source": [
    "df.shape"
   ]
  },
  {
   "cell_type": "code",
   "execution_count": 11,
   "id": "8d330315-13af-41d4-bec8-2e43bcf1e9aa",
   "metadata": {},
   "outputs": [
    {
     "data": {
      "text/plain": [
       "60270"
      ]
     },
     "execution_count": 11,
     "metadata": {},
     "output_type": "execute_result"
    }
   ],
   "source": [
    "df.size"
   ]
  },
  {
   "cell_type": "code",
   "execution_count": 12,
   "id": "e2cc2553-8680-46c9-9827-ae9ce109fcd6",
   "metadata": {},
   "outputs": [
    {
     "data": {
      "text/plain": [
       "Attrition                        2\n",
       "Business Travel                  3\n",
       "CF_age band                      5\n",
       "CF_attrition label               2\n",
       "Department                       3\n",
       "Education Field                  6\n",
       "emp no                        1470\n",
       "Employee Number               1470\n",
       "Gender                           2\n",
       "Job Role                         9\n",
       "Marital Status                   3\n",
       "Over Time                        2\n",
       "Over18                           1\n",
       "Training Times Last Year         7\n",
       "-2                               1\n",
       "0                                1\n",
       "Age                             43\n",
       "CF_current Employee              2\n",
       "Daily Rate                     886\n",
       "Distance From Home              29\n",
       "Education                        5\n",
       "Employee Count                   1\n",
       "Environment Satisfaction         4\n",
       "Hourly Rate                     71\n",
       "Job Involvement                  4\n",
       "Job Level                        5\n",
       "Job Satisfaction                 4\n",
       "Monthly Income                1349\n",
       "Monthly Rate                  1427\n",
       "Num Companies Worked            10\n",
       "Percent Salary Hike             15\n",
       "Performance Rating               2\n",
       "Relationship Satisfaction        4\n",
       "Standard Hours                   1\n",
       "Stock Option Level               4\n",
       "Total Working Years             40\n",
       "Work Life Balance                4\n",
       "Years At Company                37\n",
       "Years In Current Role           19\n",
       "Years Since Last Promotion      16\n",
       "Years With Curr Manager         18\n",
       "dtype: int64"
      ]
     },
     "execution_count": 12,
     "metadata": {},
     "output_type": "execute_result"
    }
   ],
   "source": [
    "df.nunique()"
   ]
  },
  {
   "cell_type": "code",
   "execution_count": 17,
   "id": "97fb8e0c-648f-4985-b9d3-919f0f79f347",
   "metadata": {},
   "outputs": [],
   "source": [
    "df = df.dropna(thresh=len(df) * 0.5, axis=1)"
   ]
  },
  {
   "cell_type": "code",
   "execution_count": 19,
   "id": "8cde060c-5c35-4042-a043-676616e36bc9",
   "metadata": {},
   "outputs": [
    {
     "name": "stdout",
     "output_type": "stream",
     "text": [
      "Number of duplicate rows: 0\n"
     ]
    }
   ],
   "source": [
    "# Check for duplicate rows\n",
    "duplicates = df.duplicated().sum()\n",
    "print(f\"Number of duplicate rows: {duplicates}\")\n",
    "\n",
    "# Remove duplicates\n",
    "df = df.drop_duplicates()\n"
   ]
  },
  {
   "cell_type": "code",
   "execution_count": 20,
   "id": "b57f8140-c750-4093-a7d0-b1aa45e5d3fe",
   "metadata": {},
   "outputs": [],
   "source": [
    "# Standardizing department names\n",
    "df[\"Department\"] = df[\"Department\"].replace({\"Research and development\": \"R&D\"})"
   ]
  },
  {
   "cell_type": "code",
   "execution_count": 21,
   "id": "a6ad96d9-cf14-488a-ae70-e2c4bbe714f7",
   "metadata": {},
   "outputs": [
    {
     "data": {
      "image/png": "[encoded data removed]",
      "text/plain": [
       "<Figure size 800x500 with 1 Axes>"
      ]
     },
     "metadata": {},
     "output_type": "display_data"
    }
   ],
   "source": [
    "import matplotlib.pyplot as plt\n",
    "import seaborn as sns\n",
    "\n",
    "plt.figure(figsize=(8,5))\n",
    "sns.histplot(df[\"Age\"], bins=20, kde=True)\n",
    "plt.title(\"Employee Age Distribution\")\n",
    "plt.show()\n"
   ]
  },
  {
   "cell_type": "code",
   "execution_count": 22,
   "id": "73b54b74-796d-4837-ba1d-7b696ab6b33d",
   "metadata": {},
   "outputs": [
    {
     "data": {
      "image/png": "[encoded data removed]",
      "text/plain": [
       "<Figure size 600x400 with 1 Axes>"
      ]
     },
     "metadata": {},
     "output_type": "display_data"
    }
   ],
   "source": [
    "plt.figure(figsize=(6,4))\n",
    "df[\"Gender\"].value_counts().plot(kind=\"bar\", color=[\"blue\", \"pink\"])\n",
    "plt.title(\"Gender Distribution\")\n",
    "plt.xlabel(\"Gender\")\n",
    "plt.ylabel(\"Count\")\n",
    "plt.show()"
   ]
  },
  {
   "cell_type": "code",
   "execution_count": 28,
   "id": "40717bb8-595e-4cff-8411-e8a66ba963b1",
   "metadata": {},
   "outputs": [
    {
     "data": {
      "text/html": [
       "<div>\n",
       "<style scoped>\n",
       "    .dataframe tbody tr th:only-of-type {\n",
       "        vertical-align: middle;\n",
       "    }\n",
       "\n",
       "    .dataframe tbody tr th {\n",
       "        vertical-align: top;\n",
       "    }\n",
       "\n",
       "    .dataframe thead th {\n",
       "        text-align: right;\n",
       "    }\n",
       "</style>\n",
       "<table border=\"1\" class=\"dataframe\">\n",
       "  <thead>\n",
       "    <tr style=\"text-align: right;\">\n",
       "      <th></th>\n",
       "      <th>Gender</th>\n",
       "      <th>Employee Number</th>\n",
       "    </tr>\n",
       "  </thead>\n",
       "  <tbody>\n",
       "    <tr>\n",
       "      <th>0</th>\n",
       "      <td>Female</td>\n",
       "      <td>588</td>\n",
       "    </tr>\n",
       "    <tr>\n",
       "      <th>1</th>\n",
       "      <td>Male</td>\n",
       "      <td>882</td>\n",
       "    </tr>\n",
       "  </tbody>\n",
       "</table>\n",
       "</div>"
      ],
      "text/plain": [
       "   Gender  Employee Number\n",
       "0  Female              588\n",
       "1    Male              882"
      ]
     },
     "execution_count": 28,
     "metadata": {},
     "output_type": "execute_result"
    }
   ],
   "source": [
    "import seaborn as sns\n",
    "import matplotlib.pyplot as plt\n",
    "df_gender=df.groupby(by='Gender')['Employee Number'].count().reset_index()\n",
    "df_gender"
   ]
  },
  {
   "cell_type": "code",
   "execution_count": 30,
   "id": "a17e70ca-f60a-4226-832f-d03971a11146",
   "metadata": {},
   "outputs": [
    {
     "data": {
      "text/plain": [
       "Text(0.5, 1.0, 'Gender Distribution')"
      ]
     },
     "execution_count": 30,
     "metadata": {},
     "output_type": "execute_result"
    },
    {
     "data": {
      "image/png": "[encoded data removed]",
      "text/plain": [
       "<Figure size 640x480 with 1 Axes>"
      ]
     },
     "metadata": {},
     "output_type": "display_data"
    }
   ],
   "source": [
    "plt.pie(df_gender['Employee Number'],labels=df_gender['Gender'],autopct='%1.2f%%')\n",
    "plt.title(\"Gender Distribution\")"
   ]
  },
  {
   "cell_type": "code",
   "execution_count": 32,
   "id": "e3df5bcb-f847-43c1-a680-89aa53bd1bf8",
   "metadata": {},
   "outputs": [
    {
     "data": {
      "text/html": [
       "<div>\n",
       "<style scoped>\n",
       "    .dataframe tbody tr th:only-of-type {\n",
       "        vertical-align: middle;\n",
       "    }\n",
       "\n",
       "    .dataframe tbody tr th {\n",
       "        vertical-align: top;\n",
       "    }\n",
       "\n",
       "    .dataframe thead th {\n",
       "        text-align: right;\n",
       "    }\n",
       "</style>\n",
       "<table border=\"1\" class=\"dataframe\">\n",
       "  <thead>\n",
       "    <tr style=\"text-align: right;\">\n",
       "      <th></th>\n",
       "      <th>Department</th>\n",
       "      <th>Employee Number</th>\n",
       "    </tr>\n",
       "  </thead>\n",
       "  <tbody>\n",
       "    <tr>\n",
       "      <th>0</th>\n",
       "      <td>HR</td>\n",
       "      <td>63</td>\n",
       "    </tr>\n",
       "    <tr>\n",
       "      <th>1</th>\n",
       "      <td>R&amp;D</td>\n",
       "      <td>961</td>\n",
       "    </tr>\n",
       "    <tr>\n",
       "      <th>2</th>\n",
       "      <td>Sales</td>\n",
       "      <td>446</td>\n",
       "    </tr>\n",
       "  </tbody>\n",
       "</table>\n",
       "</div>"
      ],
      "text/plain": [
       "  Department  Employee Number\n",
       "0         HR               63\n",
       "1        R&D              961\n",
       "2      Sales              446"
      ]
     },
     "execution_count": 32,
     "metadata": {},
     "output_type": "execute_result"
    }
   ],
   "source": [
    "df_dept=df.groupby(by='Department')['Employee Number'].count().reset_index()\n",
    "df_dept"
   ]
  },
  {
   "cell_type": "code",
   "execution_count": 33,
   "id": "53bd3c2e-8d13-490e-88d8-9d4a1cb51fbd",
   "metadata": {},
   "outputs": [
    {
     "data": {
      "text/plain": [
       "Text(0.5, 1.0, 'Department-wise distribution of the Employees')"
      ]
     },
     "execution_count": 33,
     "metadata": {},
     "output_type": "execute_result"
    },
    {
     "data": {
      "image/png": "[encoded data removed]",
      "text/plain": [
       "<Figure size 640x480 with 1 Axes>"
      ]
     },
     "metadata": {},
     "output_type": "display_data"
    }
   ],
   "source": [
    "plt.pie(df_dept['Employee Number'],labels=df_dept['Department'],autopct='%1.2f%%')\n",
    "plt.title(\"Department-wise distribution of the Employees\")"
   ]
  },
  {
   "cell_type": "code",
   "execution_count": 37,
   "id": "3187d1ec-a5e0-49e1-b862-26a234490d3d",
   "metadata": {},
   "outputs": [],
   "source": [
    "df['Education Field']=df['Education Field'].str.replace(\" \",\"\")"
   ]
  },
  {
   "cell_type": "code",
   "execution_count": 38,
   "id": "012ab265-2b46-447b-8257-ca757755aeed",
   "metadata": {},
   "outputs": [
    {
     "data": {
      "text/html": [
       "<div>\n",
       "<style scoped>\n",
       "    .dataframe tbody tr th:only-of-type {\n",
       "        vertical-align: middle;\n",
       "    }\n",
       "\n",
       "    .dataframe tbody tr th {\n",
       "        vertical-align: top;\n",
       "    }\n",
       "\n",
       "    .dataframe thead th {\n",
       "        text-align: right;\n",
       "    }\n",
       "</style>\n",
       "<table border=\"1\" class=\"dataframe\">\n",
       "  <thead>\n",
       "    <tr style=\"text-align: right;\">\n",
       "      <th></th>\n",
       "      <th>Education Field</th>\n",
       "      <th>count</th>\n",
       "    </tr>\n",
       "  </thead>\n",
       "  <tbody>\n",
       "    <tr>\n",
       "      <th>0</th>\n",
       "      <td>LifeSciences</td>\n",
       "      <td>606</td>\n",
       "    </tr>\n",
       "    <tr>\n",
       "      <th>1</th>\n",
       "      <td>Medical</td>\n",
       "      <td>464</td>\n",
       "    </tr>\n",
       "    <tr>\n",
       "      <th>2</th>\n",
       "      <td>Marketing</td>\n",
       "      <td>159</td>\n",
       "    </tr>\n",
       "    <tr>\n",
       "      <th>3</th>\n",
       "      <td>TechnicalDegree</td>\n",
       "      <td>132</td>\n",
       "    </tr>\n",
       "    <tr>\n",
       "      <th>4</th>\n",
       "      <td>Other</td>\n",
       "      <td>82</td>\n",
       "    </tr>\n",
       "    <tr>\n",
       "      <th>5</th>\n",
       "      <td>HumanResources</td>\n",
       "      <td>27</td>\n",
       "    </tr>\n",
       "  </tbody>\n",
       "</table>\n",
       "</div>"
      ],
      "text/plain": [
       "   Education Field  count\n",
       "0     LifeSciences    606\n",
       "1          Medical    464\n",
       "2        Marketing    159\n",
       "3  TechnicalDegree    132\n",
       "4            Other     82\n",
       "5   HumanResources     27"
      ]
     },
     "execution_count": 38,
     "metadata": {},
     "output_type": "execute_result"
    }
   ],
   "source": [
    "df_eduf=df['Education Field'].value_counts().reset_index()\n",
    "df_eduf"
   ]
  },
  {
   "cell_type": "code",
   "execution_count": 39,
   "id": "a75868b7-a345-4f84-bc3a-cf8dcf93ae5d",
   "metadata": {},
   "outputs": [
    {
     "data": {
      "text/plain": [
       "Text(0.5, 1.0, 'Education Field Distribution among Employees')"
      ]
     },
     "execution_count": 39,
     "metadata": {},
     "output_type": "execute_result"
    },
    {
     "data": {
      "image/png": "[encoded data removed]",
      "text/plain": [
       "<Figure size 640x480 with 1 Axes>"
      ]
     },
     "metadata": {},
     "output_type": "display_data"
    }
   ],
   "source": [
    "plt.pie(df_eduf['count'],labels=df_eduf['Education Field'],autopct='%1.2f%%')\n",
    "plt.title(\"Education Field Distribution among Employees\")"
   ]
  },
  {
   "cell_type": "markdown",
   "id": "70fdd678-fa9f-4930-a888-3805aa713c05",
   "metadata": {},
   "source": [
    "Employee Performance & Satisfaction"
   ]
  },
  {
   "cell_type": "code",
   "execution_count": 43,
   "id": "de05f32c-0ead-41ba-8faf-1a920ec81981",
   "metadata": {},
   "outputs": [
    {
     "data": {
      "text/plain": [
       "<Axes: xlabel='Job Satisfaction', ylabel='Work Life Balance'>"
      ]
     },
     "execution_count": 43,
     "metadata": {},
     "output_type": "execute_result"
    },
    {
     "data": {
      "image/png": "[encoded data removed]",
      "text/plain": [
       "<Figure size 640x480 with 1 Axes>"
      ]
     },
     "metadata": {},
     "output_type": "display_data"
    }
   ],
   "source": [
    "sns.regplot(x=df['Job Satisfaction'],y=df['Work Life Balance'])"
   ]
  },
  {
   "cell_type": "code",
   "execution_count": 44,
   "id": "4bf454c3-eeb0-4d7a-896b-112cd9d0958e",
   "metadata": {},
   "outputs": [
    {
     "data": {
      "text/html": [
       "<div>\n",
       "<style scoped>\n",
       "    .dataframe tbody tr th:only-of-type {\n",
       "        vertical-align: middle;\n",
       "    }\n",
       "\n",
       "    .dataframe tbody tr th {\n",
       "        vertical-align: top;\n",
       "    }\n",
       "\n",
       "    .dataframe thead th {\n",
       "        text-align: right;\n",
       "    }\n",
       "</style>\n",
       "<table border=\"1\" class=\"dataframe\">\n",
       "  <thead>\n",
       "    <tr style=\"text-align: right;\">\n",
       "      <th></th>\n",
       "      <th>Job Satisfaction</th>\n",
       "      <th>Work Life Balance</th>\n",
       "    </tr>\n",
       "  </thead>\n",
       "  <tbody>\n",
       "    <tr>\n",
       "      <th>Job Satisfaction</th>\n",
       "      <td>1.000000</td>\n",
       "      <td>-0.019459</td>\n",
       "    </tr>\n",
       "    <tr>\n",
       "      <th>Work Life Balance</th>\n",
       "      <td>-0.019459</td>\n",
       "      <td>1.000000</td>\n",
       "    </tr>\n",
       "  </tbody>\n",
       "</table>\n",
       "</div>"
      ],
      "text/plain": [
       "                   Job Satisfaction  Work Life Balance\n",
       "Job Satisfaction           1.000000          -0.019459\n",
       "Work Life Balance         -0.019459           1.000000"
      ]
     },
     "execution_count": 44,
     "metadata": {},
     "output_type": "execute_result"
    }
   ],
   "source": [
    "df_jobsat_wrlifebal=df[['Job Satisfaction','Work Life Balance']].corr()\n",
    "df_jobsat_wrlifebal"
   ]
  },
  {
   "cell_type": "code",
   "execution_count": 48,
   "id": "06f11a21-4593-49e4-96b3-48ce781893d1",
   "metadata": {},
   "outputs": [
    {
     "data": {
      "text/plain": [
       "<Axes: xlabel='Performance Rating', ylabel='Job Satisfaction'>"
      ]
     },
     "execution_count": 48,
     "metadata": {},
     "output_type": "execute_result"
    },
    {
     "data": {
      "image/png": "[encoded data removed]",
      "text/plain": [
       "<Figure size 640x480 with 1 Axes>"
      ]
     },
     "metadata": {},
     "output_type": "display_data"
    }
   ],
   "source": [
    "sns.regplot(x=df['Performance Rating'],y=df['Job Satisfaction'])"
   ]
  },
  {
   "cell_type": "code",
   "execution_count": 54,
   "id": "a9d6a7d9-bf3f-4728-a19f-ed95837900a6",
   "metadata": {},
   "outputs": [
    {
     "data": {
      "text/plain": [
       "Job Role\n",
       "Sales Executive              326\n",
       "Research Scientist           292\n",
       "Laboratory Technician        259\n",
       "Manufacturing Director       145\n",
       "Healthcare Representative    131\n",
       "Manager                      102\n",
       "Sales Representative          83\n",
       "Research Director             80\n",
       "Human Resources               52\n",
       "Name: count, dtype: int64"
      ]
     },
     "execution_count": 54,
     "metadata": {},
     "output_type": "execute_result"
    }
   ],
   "source": [
    "df['Job Role'].value_counts()"
   ]
  },
  {
   "cell_type": "code",
   "execution_count": 61,
   "id": "e6f26f9b-4857-42ef-ba94-35b4a762a43e",
   "metadata": {},
   "outputs": [],
   "source": [
    "df['jobrole_encoded']=df['Job Role'].map({'Sales Executive':1,'Research Scientist':2,'Laboratory Technician':3,'Manufacturing Director':4,'Healthcare Representative':5,'Manager':6,'Sales Representative':7,'Research Director':8,'Human Resources':9})"
   ]
  },
  {
   "cell_type": "code",
   "execution_count": 71,
   "id": "9f47f347-8e15-4508-9457-3ab97a021d82",
   "metadata": {},
   "outputs": [
    {
     "data": {
      "text/html": [
       "<div>\n",
       "<style scoped>\n",
       "    .dataframe tbody tr th:only-of-type {\n",
       "        vertical-align: middle;\n",
       "    }\n",
       "\n",
       "    .dataframe tbody tr th {\n",
       "        vertical-align: top;\n",
       "    }\n",
       "\n",
       "    .dataframe thead th {\n",
       "        text-align: right;\n",
       "    }\n",
       "</style>\n",
       "<table border=\"1\" class=\"dataframe\">\n",
       "  <thead>\n",
       "    <tr style=\"text-align: right;\">\n",
       "      <th></th>\n",
       "      <th>Gender</th>\n",
       "      <th>Job Satisfaction</th>\n",
       "    </tr>\n",
       "  </thead>\n",
       "  <tbody>\n",
       "    <tr>\n",
       "      <th>0</th>\n",
       "      <td>Female</td>\n",
       "      <td>2.683673</td>\n",
       "    </tr>\n",
       "    <tr>\n",
       "      <th>1</th>\n",
       "      <td>Male</td>\n",
       "      <td>2.758503</td>\n",
       "    </tr>\n",
       "  </tbody>\n",
       "</table>\n",
       "</div>"
      ],
      "text/plain": [
       "   Gender  Job Satisfaction\n",
       "0  Female          2.683673\n",
       "1    Male          2.758503"
      ]
     },
     "execution_count": 71,
     "metadata": {},
     "output_type": "execute_result"
    }
   ],
   "source": [
    "df_gen_jobSat=df.groupby(by='Gender')['Job Satisfaction'].mean().reset_index()\n",
    "df_gen_jobSat"
   ]
  },
  {
   "cell_type": "code",
   "execution_count": 73,
   "id": "9894fe8e-4fdf-4431-88f3-3eacea6a4d08",
   "metadata": {},
   "outputs": [
    {
     "data": {
      "text/plain": [
       "Text(0.5, 1.0, 'Job Satisfaction v/s Gender')"
      ]
     },
     "execution_count": 73,
     "metadata": {},
     "output_type": "execute_result"
    },
    {
     "data": {
      "image/png": "[encoded data removed]",
      "text/plain": [
       "<Figure size 640x480 with 1 Axes>"
      ]
     },
     "metadata": {},
     "output_type": "display_data"
    }
   ],
   "source": [
    "plt.pie(df_gen_jobSat['Job Satisfaction'],labels=df_gen_jobSat['Gender'],autopct='%1.2f%%')\n",
    "plt.title(\"Job Satisfaction v/s Gender\")"
   ]
  },
  {
   "cell_type": "code",
   "execution_count": 76,
   "id": "16f603b7-6424-44ba-88e5-5426903daddf",
   "metadata": {},
   "outputs": [
    {
     "data": {
      "text/plain": [
       "Attrition\n",
       "No     1233\n",
       "Yes     237\n",
       "Name: count, dtype: int64"
      ]
     },
     "execution_count": 76,
     "metadata": {},
     "output_type": "execute_result"
    }
   ],
   "source": [
    "df['Attrition'].value_counts()"
   ]
  },
  {
   "cell_type": "code",
   "execution_count": 78,
   "id": "b280c4d2-1229-495d-9e32-b2378c6c639f",
   "metadata": {},
   "outputs": [],
   "source": [
    "df['Attrition']=df['Attrition'].map({'No':0,'Yes':1})"
   ]
  },
  {
   "cell_type": "code",
   "execution_count": 80,
   "id": "244f2a80-c966-4bc1-9771-672f2105a8aa",
   "metadata": {},
   "outputs": [
    {
     "data": {
      "text/html": [
       "<div>\n",
       "<style scoped>\n",
       "    .dataframe tbody tr th:only-of-type {\n",
       "        vertical-align: middle;\n",
       "    }\n",
       "\n",
       "    .dataframe tbody tr th {\n",
       "        vertical-align: top;\n",
       "    }\n",
       "\n",
       "    .dataframe thead th {\n",
       "        text-align: right;\n",
       "    }\n",
       "</style>\n",
       "<table border=\"1\" class=\"dataframe\">\n",
       "  <thead>\n",
       "    <tr style=\"text-align: right;\">\n",
       "      <th></th>\n",
       "      <th>Attrition</th>\n",
       "      <th>Age</th>\n",
       "    </tr>\n",
       "  </thead>\n",
       "  <tbody>\n",
       "    <tr>\n",
       "      <th>Attrition</th>\n",
       "      <td>1.000000</td>\n",
       "      <td>-0.159205</td>\n",
       "    </tr>\n",
       "    <tr>\n",
       "      <th>Age</th>\n",
       "      <td>-0.159205</td>\n",
       "      <td>1.000000</td>\n",
       "    </tr>\n",
       "  </tbody>\n",
       "</table>\n",
       "</div>"
      ],
      "text/plain": [
       "           Attrition       Age\n",
       "Attrition   1.000000 -0.159205\n",
       "Age        -0.159205  1.000000"
      ]
     },
     "execution_count": 80,
     "metadata": {},
     "output_type": "execute_result"
    }
   ],
   "source": [
    "df_att_age=df[['Attrition','Age']].corr()\n",
    "df_att_age"
   ]
  },
  {
   "cell_type": "code",
   "execution_count": 82,
   "id": "e4fcb9dd-c17c-40ef-914c-5bd4256784bc",
   "metadata": {},
   "outputs": [
    {
     "data": {
      "text/plain": [
       "Text(0.5, 1.0, 'Attrition v/s Age')"
      ]
     },
     "execution_count": 82,
     "metadata": {},
     "output_type": "execute_result"
    },
    {
     "data": {
      "image/png": "[encoded data removed]",
      "text/plain": [
       "<Figure size 640x480 with 1 Axes>"
      ]
     },
     "metadata": {},
     "output_type": "display_data"
    }
   ],
   "source": [
    "sns.regplot(x=df['Attrition'],y=df['Age'])\n",
    "plt.title(\"Attrition v/s Age\")"
   ]
  },
  {
   "cell_type": "code",
   "execution_count": 91,
   "id": "dc86ee8c-e0ff-4320-9752-325f682f8cea",
   "metadata": {},
   "outputs": [
    {
     "data": {
      "text/html": [
       "<div>\n",
       "<style scoped>\n",
       "    .dataframe tbody tr th:only-of-type {\n",
       "        vertical-align: middle;\n",
       "    }\n",
       "\n",
       "    .dataframe tbody tr th {\n",
       "        vertical-align: top;\n",
       "    }\n",
       "\n",
       "    .dataframe thead th {\n",
       "        text-align: right;\n",
       "    }\n",
       "</style>\n",
       "<table border=\"1\" class=\"dataframe\">\n",
       "  <thead>\n",
       "    <tr style=\"text-align: right;\">\n",
       "      <th></th>\n",
       "      <th>Attrition</th>\n",
       "      <th>Work Life Balance</th>\n",
       "    </tr>\n",
       "  </thead>\n",
       "  <tbody>\n",
       "    <tr>\n",
       "      <th>Attrition</th>\n",
       "      <td>1.000000</td>\n",
       "      <td>-0.063939</td>\n",
       "    </tr>\n",
       "    <tr>\n",
       "      <th>Work Life Balance</th>\n",
       "      <td>-0.063939</td>\n",
       "      <td>1.000000</td>\n",
       "    </tr>\n",
       "  </tbody>\n",
       "</table>\n",
       "</div>"
      ],
      "text/plain": [
       "                   Attrition  Work Life Balance\n",
       "Attrition           1.000000          -0.063939\n",
       "Work Life Balance  -0.063939           1.000000"
      ]
     },
     "execution_count": 91,
     "metadata": {},
     "output_type": "execute_result"
    }
   ],
   "source": [
    "df_wlb_att=df[['Attrition','Work Life Balance']].corr()\n",
    "df_wlb_att"
   ]
  },
  {
   "cell_type": "code",
   "execution_count": 92,
   "id": "5c12519a-b318-466f-8136-57c163b87684",
   "metadata": {},
   "outputs": [
    {
     "data": {
      "text/html": [
       "<div>\n",
       "<style scoped>\n",
       "    .dataframe tbody tr th:only-of-type {\n",
       "        vertical-align: middle;\n",
       "    }\n",
       "\n",
       "    .dataframe tbody tr th {\n",
       "        vertical-align: top;\n",
       "    }\n",
       "\n",
       "    .dataframe thead th {\n",
       "        text-align: right;\n",
       "    }\n",
       "</style>\n",
       "<table border=\"1\" class=\"dataframe\">\n",
       "  <thead>\n",
       "    <tr style=\"text-align: right;\">\n",
       "      <th></th>\n",
       "      <th>Years Since Last Promotion</th>\n",
       "      <th>Attrition</th>\n",
       "    </tr>\n",
       "  </thead>\n",
       "  <tbody>\n",
       "    <tr>\n",
       "      <th>Years Since Last Promotion</th>\n",
       "      <td>1.000000</td>\n",
       "      <td>-0.033019</td>\n",
       "    </tr>\n",
       "    <tr>\n",
       "      <th>Attrition</th>\n",
       "      <td>-0.033019</td>\n",
       "      <td>1.000000</td>\n",
       "    </tr>\n",
       "  </tbody>\n",
       "</table>\n",
       "</div>"
      ],
      "text/plain": [
       "                            Years Since Last Promotion  Attrition\n",
       "Years Since Last Promotion                    1.000000  -0.033019\n",
       "Attrition                                    -0.033019   1.000000"
      ]
     },
     "execution_count": 92,
     "metadata": {},
     "output_type": "execute_result"
    }
   ],
   "source": [
    "df_yslp_att=df[['Years Since Last Promotion','Attrition']].corr()\n",
    "df_yslp_att"
   ]
  },
  {
   "cell_type": "code",
   "execution_count": 95,
   "id": "4e3e7d12-696f-44ed-9590-531e3403b1cb",
   "metadata": {},
   "outputs": [
    {
     "data": {
      "text/plain": [
       "Text(0.5, 1.0, 'YearsSinceLastPromotion v/s Attrition')"
      ]
     },
     "execution_count": 95,
     "metadata": {},
     "output_type": "execute_result"
    },
    {
     "data": {
      "image/png": "[encoded data removed]",
      "text/plain": [
       "<Figure size 640x480 with 1 Axes>"
      ]
     },
     "metadata": {},
     "output_type": "display_data"
    }
   ],
   "source": [
    "sns.regplot(x=df['Years Since Last Promotion'],y=df['Attrition'])\n",
    "plt.title(\"YearsSinceLastPromotion v/s Attrition\")"
   ]
  }
 ],
 "metadata": {
  "kernelspec": {
   "display_name": "Python 3 (ipykernel)",
   "language": "python",
   "name": "python3"
  },
  "language_info": {
   "codemirror_mode": {
    "name": "ipython",
    "version": 3
   },
   "file_extension": ".py",
   "mimetype": "text/x-python",
   "name": "python",
   "nbconvert_exporter": "python",
   "pygments_lexer": "ipython3",
   "version": "3.12.4"
  }
 },
 "nbformat": 4,
 "nbformat_minor": 5
}
